{
 "cells": [
  {
   "cell_type": "markdown",
   "id": "3dcf5f03",
   "metadata": {},
   "source": [
    "# **Simple Sales Tracker**"
   ]
  },
  {
   "cell_type": "markdown",
   "id": "57150b2f",
   "metadata": {},
   "source": [
    "**Author**: Yasmeen Rafique | Data Analytics Enthusiast  \n",
    "📅 July 2025 | 📍 Pakistan"
   ]
  },
  {
   "cell_type": "markdown",
   "id": "1bd84231",
   "metadata": {},
   "source": [
    "### **Data understanding**"
   ]
  },
  {
   "cell_type": "code",
   "execution_count": 32,
   "id": "3b0be753",
   "metadata": {},
   "outputs": [
    {
     "name": "stdout",
     "output_type": "stream",
     "text": [
      "        Date Product  Units_Sold  Unit_Price  Revenue\n",
      "0 2025-01-05       A          10         100     1000\n",
      "1 2025-01-12       B           5         150      750\n",
      "2 2025-02-03       A          15         100     1500\n",
      "3 2025-02-17       C           7         200     1400\n",
      "4 2025-03-01       B           9         150     1350\n",
      "5 2025-03-15       C          12         200     2400\n",
      "6 2025-03-30       A           8         100      800\n",
      "7 2025-04-10       C           6         200     1200\n",
      "8 2025-04-25       B          11         150     1650\n",
      "9 2025-05-05       A          14         100     1400\n"
     ]
    }
   ],
   "source": [
    "import pandas as pd\n",
    "\n",
    "# Sample sales data\n",
    "data = {\n",
    "    'Date': ['2025-01-05', '2025-01-12', '2025-02-03', '2025-02-17', '2025-03-01',\n",
    "             '2025-03-15', '2025-03-30', '2025-04-10', '2025-04-25', '2025-05-05'],\n",
    "    'Product': ['A', 'B', 'A', 'C', 'B', 'C', 'A', 'C', 'B', 'A'],\n",
    "    'Units_Sold': [10, 5, 15, 7, 9, 12, 8, 6, 11, 14],\n",
    "    'Unit_Price': [100, 150, 100, 200, 150, 200, 100, 200, 150, 100]\n",
    "}\n",
    "\n",
    "df = pd.DataFrame(data)\n",
    "\n",
    "# Add Revenue column\n",
    "df['Revenue'] = df['Units_Sold'] * df['Unit_Price']\n",
    "\n",
    "# Convert Date column to datetime\n",
    "df['Date'] = pd.to_datetime(df['Date'])\n",
    "\n",
    "print(df)\n",
    "\n"
   ]
  },
  {
   "cell_type": "code",
   "execution_count": 33,
   "id": "f01efb41",
   "metadata": {},
   "outputs": [
    {
     "data": {
      "text/html": [
       "<div>\n",
       "<style scoped>\n",
       "    .dataframe tbody tr th:only-of-type {\n",
       "        vertical-align: middle;\n",
       "    }\n",
       "\n",
       "    .dataframe tbody tr th {\n",
       "        vertical-align: top;\n",
       "    }\n",
       "\n",
       "    .dataframe thead th {\n",
       "        text-align: right;\n",
       "    }\n",
       "</style>\n",
       "<table border=\"1\" class=\"dataframe\">\n",
       "  <thead>\n",
       "    <tr style=\"text-align: right;\">\n",
       "      <th></th>\n",
       "      <th>Date</th>\n",
       "      <th>Product</th>\n",
       "      <th>Units_Sold</th>\n",
       "      <th>Unit_Price</th>\n",
       "      <th>Revenue</th>\n",
       "    </tr>\n",
       "  </thead>\n",
       "  <tbody>\n",
       "    <tr>\n",
       "      <th>0</th>\n",
       "      <td>2025-01-05</td>\n",
       "      <td>A</td>\n",
       "      <td>10</td>\n",
       "      <td>100</td>\n",
       "      <td>1000</td>\n",
       "    </tr>\n",
       "    <tr>\n",
       "      <th>1</th>\n",
       "      <td>2025-01-12</td>\n",
       "      <td>B</td>\n",
       "      <td>5</td>\n",
       "      <td>150</td>\n",
       "      <td>750</td>\n",
       "    </tr>\n",
       "    <tr>\n",
       "      <th>2</th>\n",
       "      <td>2025-02-03</td>\n",
       "      <td>A</td>\n",
       "      <td>15</td>\n",
       "      <td>100</td>\n",
       "      <td>1500</td>\n",
       "    </tr>\n",
       "    <tr>\n",
       "      <th>3</th>\n",
       "      <td>2025-02-17</td>\n",
       "      <td>C</td>\n",
       "      <td>7</td>\n",
       "      <td>200</td>\n",
       "      <td>1400</td>\n",
       "    </tr>\n",
       "    <tr>\n",
       "      <th>4</th>\n",
       "      <td>2025-03-01</td>\n",
       "      <td>B</td>\n",
       "      <td>9</td>\n",
       "      <td>150</td>\n",
       "      <td>1350</td>\n",
       "    </tr>\n",
       "    <tr>\n",
       "      <th>5</th>\n",
       "      <td>2025-03-15</td>\n",
       "      <td>C</td>\n",
       "      <td>12</td>\n",
       "      <td>200</td>\n",
       "      <td>2400</td>\n",
       "    </tr>\n",
       "    <tr>\n",
       "      <th>6</th>\n",
       "      <td>2025-03-30</td>\n",
       "      <td>A</td>\n",
       "      <td>8</td>\n",
       "      <td>100</td>\n",
       "      <td>800</td>\n",
       "    </tr>\n",
       "    <tr>\n",
       "      <th>7</th>\n",
       "      <td>2025-04-10</td>\n",
       "      <td>C</td>\n",
       "      <td>6</td>\n",
       "      <td>200</td>\n",
       "      <td>1200</td>\n",
       "    </tr>\n",
       "    <tr>\n",
       "      <th>8</th>\n",
       "      <td>2025-04-25</td>\n",
       "      <td>B</td>\n",
       "      <td>11</td>\n",
       "      <td>150</td>\n",
       "      <td>1650</td>\n",
       "    </tr>\n",
       "    <tr>\n",
       "      <th>9</th>\n",
       "      <td>2025-05-05</td>\n",
       "      <td>A</td>\n",
       "      <td>14</td>\n",
       "      <td>100</td>\n",
       "      <td>1400</td>\n",
       "    </tr>\n",
       "  </tbody>\n",
       "</table>\n",
       "</div>"
      ],
      "text/plain": [
       "        Date Product  Units_Sold  Unit_Price  Revenue\n",
       "0 2025-01-05       A          10         100     1000\n",
       "1 2025-01-12       B           5         150      750\n",
       "2 2025-02-03       A          15         100     1500\n",
       "3 2025-02-17       C           7         200     1400\n",
       "4 2025-03-01       B           9         150     1350\n",
       "5 2025-03-15       C          12         200     2400\n",
       "6 2025-03-30       A           8         100      800\n",
       "7 2025-04-10       C           6         200     1200\n",
       "8 2025-04-25       B          11         150     1650\n",
       "9 2025-05-05       A          14         100     1400"
      ]
     },
     "execution_count": 33,
     "metadata": {},
     "output_type": "execute_result"
    }
   ],
   "source": [
    "df"
   ]
  },
  {
   "cell_type": "markdown",
   "id": "4e386cd5",
   "metadata": {},
   "source": [
    "### **Data exploration**"
   ]
  },
  {
   "cell_type": "code",
   "execution_count": 34,
   "id": "f6a5e4ed",
   "metadata": {},
   "outputs": [
    {
     "data": {
      "text/plain": [
       "(10, 5)"
      ]
     },
     "execution_count": 34,
     "metadata": {},
     "output_type": "execute_result"
    }
   ],
   "source": [
    "df.shape"
   ]
  },
  {
   "cell_type": "code",
   "execution_count": 35,
   "id": "9153ee6b",
   "metadata": {},
   "outputs": [
    {
     "name": "stdout",
     "output_type": "stream",
     "text": [
      "<class 'pandas.core.frame.DataFrame'>\n",
      "RangeIndex: 10 entries, 0 to 9\n",
      "Data columns (total 5 columns):\n",
      " #   Column      Non-Null Count  Dtype         \n",
      "---  ------      --------------  -----         \n",
      " 0   Date        10 non-null     datetime64[ns]\n",
      " 1   Product     10 non-null     object        \n",
      " 2   Units_Sold  10 non-null     int64         \n",
      " 3   Unit_Price  10 non-null     int64         \n",
      " 4   Revenue     10 non-null     int64         \n",
      "dtypes: datetime64[ns](1), int64(3), object(1)\n",
      "memory usage: 532.0+ bytes\n"
     ]
    }
   ],
   "source": [
    "df.info()"
   ]
  },
  {
   "cell_type": "code",
   "execution_count": 36,
   "id": "77b72026",
   "metadata": {},
   "outputs": [
    {
     "data": {
      "text/html": [
       "<div>\n",
       "<style scoped>\n",
       "    .dataframe tbody tr th:only-of-type {\n",
       "        vertical-align: middle;\n",
       "    }\n",
       "\n",
       "    .dataframe tbody tr th {\n",
       "        vertical-align: top;\n",
       "    }\n",
       "\n",
       "    .dataframe thead th {\n",
       "        text-align: right;\n",
       "    }\n",
       "</style>\n",
       "<table border=\"1\" class=\"dataframe\">\n",
       "  <thead>\n",
       "    <tr style=\"text-align: right;\">\n",
       "      <th></th>\n",
       "      <th>Date</th>\n",
       "      <th>Units_Sold</th>\n",
       "      <th>Unit_Price</th>\n",
       "      <th>Revenue</th>\n",
       "    </tr>\n",
       "  </thead>\n",
       "  <tbody>\n",
       "    <tr>\n",
       "      <th>count</th>\n",
       "      <td>10</td>\n",
       "      <td>10.000</td>\n",
       "      <td>10.000000</td>\n",
       "      <td>10.000000</td>\n",
       "    </tr>\n",
       "    <tr>\n",
       "      <th>mean</th>\n",
       "      <td>2025-03-07 04:48:00</td>\n",
       "      <td>9.700</td>\n",
       "      <td>145.000000</td>\n",
       "      <td>1345.000000</td>\n",
       "    </tr>\n",
       "    <tr>\n",
       "      <th>min</th>\n",
       "      <td>2025-01-05 00:00:00</td>\n",
       "      <td>5.000</td>\n",
       "      <td>100.000000</td>\n",
       "      <td>750.000000</td>\n",
       "    </tr>\n",
       "    <tr>\n",
       "      <th>25%</th>\n",
       "      <td>2025-02-06 12:00:00</td>\n",
       "      <td>7.250</td>\n",
       "      <td>100.000000</td>\n",
       "      <td>1050.000000</td>\n",
       "    </tr>\n",
       "    <tr>\n",
       "      <th>50%</th>\n",
       "      <td>2025-03-08 00:00:00</td>\n",
       "      <td>9.500</td>\n",
       "      <td>150.000000</td>\n",
       "      <td>1375.000000</td>\n",
       "    </tr>\n",
       "    <tr>\n",
       "      <th>75%</th>\n",
       "      <td>2025-04-07 06:00:00</td>\n",
       "      <td>11.750</td>\n",
       "      <td>187.500000</td>\n",
       "      <td>1475.000000</td>\n",
       "    </tr>\n",
       "    <tr>\n",
       "      <th>max</th>\n",
       "      <td>2025-05-05 00:00:00</td>\n",
       "      <td>15.000</td>\n",
       "      <td>200.000000</td>\n",
       "      <td>2400.000000</td>\n",
       "    </tr>\n",
       "    <tr>\n",
       "      <th>std</th>\n",
       "      <td>NaN</td>\n",
       "      <td>3.335</td>\n",
       "      <td>43.779752</td>\n",
       "      <td>474.605099</td>\n",
       "    </tr>\n",
       "  </tbody>\n",
       "</table>\n",
       "</div>"
      ],
      "text/plain": [
       "                      Date  Units_Sold  Unit_Price      Revenue\n",
       "count                   10      10.000   10.000000    10.000000\n",
       "mean   2025-03-07 04:48:00       9.700  145.000000  1345.000000\n",
       "min    2025-01-05 00:00:00       5.000  100.000000   750.000000\n",
       "25%    2025-02-06 12:00:00       7.250  100.000000  1050.000000\n",
       "50%    2025-03-08 00:00:00       9.500  150.000000  1375.000000\n",
       "75%    2025-04-07 06:00:00      11.750  187.500000  1475.000000\n",
       "max    2025-05-05 00:00:00      15.000  200.000000  2400.000000\n",
       "std                    NaN       3.335   43.779752   474.605099"
      ]
     },
     "execution_count": 36,
     "metadata": {},
     "output_type": "execute_result"
    }
   ],
   "source": [
    "df.describe()"
   ]
  },
  {
   "cell_type": "code",
   "execution_count": 37,
   "id": "8bf18573",
   "metadata": {},
   "outputs": [
    {
     "data": {
      "text/plain": [
       "Index(['Date', 'Product', 'Units_Sold', 'Unit_Price', 'Revenue'], dtype='object')"
      ]
     },
     "execution_count": 37,
     "metadata": {},
     "output_type": "execute_result"
    }
   ],
   "source": [
    "df.columns"
   ]
  },
  {
   "cell_type": "code",
   "execution_count": 38,
   "id": "3cc7f4ff",
   "metadata": {},
   "outputs": [
    {
     "data": {
      "text/html": [
       "<div>\n",
       "<style scoped>\n",
       "    .dataframe tbody tr th:only-of-type {\n",
       "        vertical-align: middle;\n",
       "    }\n",
       "\n",
       "    .dataframe tbody tr th {\n",
       "        vertical-align: top;\n",
       "    }\n",
       "\n",
       "    .dataframe thead th {\n",
       "        text-align: right;\n",
       "    }\n",
       "</style>\n",
       "<table border=\"1\" class=\"dataframe\">\n",
       "  <thead>\n",
       "    <tr style=\"text-align: right;\">\n",
       "      <th></th>\n",
       "      <th>Date</th>\n",
       "      <th>Product</th>\n",
       "      <th>Units_Sold</th>\n",
       "      <th>Unit_Price</th>\n",
       "      <th>Revenue</th>\n",
       "    </tr>\n",
       "  </thead>\n",
       "  <tbody>\n",
       "    <tr>\n",
       "      <th>0</th>\n",
       "      <td>2025-01-05</td>\n",
       "      <td>A</td>\n",
       "      <td>10</td>\n",
       "      <td>100</td>\n",
       "      <td>1000</td>\n",
       "    </tr>\n",
       "    <tr>\n",
       "      <th>1</th>\n",
       "      <td>2025-01-12</td>\n",
       "      <td>B</td>\n",
       "      <td>5</td>\n",
       "      <td>150</td>\n",
       "      <td>750</td>\n",
       "    </tr>\n",
       "    <tr>\n",
       "      <th>2</th>\n",
       "      <td>2025-02-03</td>\n",
       "      <td>A</td>\n",
       "      <td>15</td>\n",
       "      <td>100</td>\n",
       "      <td>1500</td>\n",
       "    </tr>\n",
       "    <tr>\n",
       "      <th>3</th>\n",
       "      <td>2025-02-17</td>\n",
       "      <td>C</td>\n",
       "      <td>7</td>\n",
       "      <td>200</td>\n",
       "      <td>1400</td>\n",
       "    </tr>\n",
       "    <tr>\n",
       "      <th>4</th>\n",
       "      <td>2025-03-01</td>\n",
       "      <td>B</td>\n",
       "      <td>9</td>\n",
       "      <td>150</td>\n",
       "      <td>1350</td>\n",
       "    </tr>\n",
       "    <tr>\n",
       "      <th>5</th>\n",
       "      <td>2025-03-15</td>\n",
       "      <td>C</td>\n",
       "      <td>12</td>\n",
       "      <td>200</td>\n",
       "      <td>2400</td>\n",
       "    </tr>\n",
       "    <tr>\n",
       "      <th>6</th>\n",
       "      <td>2025-03-30</td>\n",
       "      <td>A</td>\n",
       "      <td>8</td>\n",
       "      <td>100</td>\n",
       "      <td>800</td>\n",
       "    </tr>\n",
       "    <tr>\n",
       "      <th>7</th>\n",
       "      <td>2025-04-10</td>\n",
       "      <td>C</td>\n",
       "      <td>6</td>\n",
       "      <td>200</td>\n",
       "      <td>1200</td>\n",
       "    </tr>\n",
       "    <tr>\n",
       "      <th>8</th>\n",
       "      <td>2025-04-25</td>\n",
       "      <td>B</td>\n",
       "      <td>11</td>\n",
       "      <td>150</td>\n",
       "      <td>1650</td>\n",
       "    </tr>\n",
       "    <tr>\n",
       "      <th>9</th>\n",
       "      <td>2025-05-05</td>\n",
       "      <td>A</td>\n",
       "      <td>14</td>\n",
       "      <td>100</td>\n",
       "      <td>1400</td>\n",
       "    </tr>\n",
       "  </tbody>\n",
       "</table>\n",
       "</div>"
      ],
      "text/plain": [
       "        Date Product  Units_Sold  Unit_Price  Revenue\n",
       "0 2025-01-05       A          10         100     1000\n",
       "1 2025-01-12       B           5         150      750\n",
       "2 2025-02-03       A          15         100     1500\n",
       "3 2025-02-17       C           7         200     1400\n",
       "4 2025-03-01       B           9         150     1350\n",
       "5 2025-03-15       C          12         200     2400\n",
       "6 2025-03-30       A           8         100      800\n",
       "7 2025-04-10       C           6         200     1200\n",
       "8 2025-04-25       B          11         150     1650\n",
       "9 2025-05-05       A          14         100     1400"
      ]
     },
     "execution_count": 38,
     "metadata": {},
     "output_type": "execute_result"
    }
   ],
   "source": [
    "df"
   ]
  },
  {
   "cell_type": "markdown",
   "id": "a54789f9",
   "metadata": {},
   "source": [
    "### **Data analysis**"
   ]
  },
  {
   "cell_type": "code",
   "execution_count": 39,
   "id": "940e90ab",
   "metadata": {},
   "outputs": [
    {
     "data": {
      "text/plain": [
       "0   2025-01-05\n",
       "1   2025-01-12\n",
       "2   2025-02-03\n",
       "3   2025-02-17\n",
       "4   2025-03-01\n",
       "5   2025-03-15\n",
       "6   2025-03-30\n",
       "7   2025-04-10\n",
       "8   2025-04-25\n",
       "9   2025-05-05\n",
       "Name: Date, dtype: datetime64[ns]"
      ]
     },
     "execution_count": 39,
     "metadata": {},
     "output_type": "execute_result"
    }
   ],
   "source": [
    "df['Date'] = pd.to_datetime(df['Date'])\n",
    "df['Date']"
   ]
  },
  {
   "cell_type": "code",
   "execution_count": 41,
   "id": "a10cc2b6",
   "metadata": {},
   "outputs": [
    {
     "name": "stdout",
     "output_type": "stream",
     "text": [
      "Total Revenue : 13450\n"
     ]
    }
   ],
   "source": [
    "total_revenue = df['Revenue'].sum()\n",
    "print('Total Revenue :',total_revenue)"
   ]
  },
  {
   "cell_type": "code",
   "execution_count": 45,
   "id": "bfaa04e1",
   "metadata": {},
   "outputs": [
    {
     "data": {
      "text/plain": [
       "Product\n",
       "A    4700\n",
       "B    3750\n",
       "C    5000\n",
       "Name: Revenue, dtype: int64"
      ]
     },
     "execution_count": 45,
     "metadata": {},
     "output_type": "execute_result"
    }
   ],
   "source": [
    "group = df.groupby('Product')['Revenue'].sum()\n",
    "group"
   ]
  },
  {
   "cell_type": "code",
   "execution_count": 57,
   "id": "352b65fd",
   "metadata": {},
   "outputs": [
    {
     "data": {
      "text/html": [
       "<div>\n",
       "<style scoped>\n",
       "    .dataframe tbody tr th:only-of-type {\n",
       "        vertical-align: middle;\n",
       "    }\n",
       "\n",
       "    .dataframe tbody tr th {\n",
       "        vertical-align: top;\n",
       "    }\n",
       "\n",
       "    .dataframe thead th {\n",
       "        text-align: right;\n",
       "    }\n",
       "</style>\n",
       "<table border=\"1\" class=\"dataframe\">\n",
       "  <thead>\n",
       "    <tr style=\"text-align: right;\">\n",
       "      <th></th>\n",
       "      <th>Date</th>\n",
       "      <th>Product</th>\n",
       "      <th>Units_Sold</th>\n",
       "      <th>Unit_Price</th>\n",
       "      <th>Revenue</th>\n",
       "    </tr>\n",
       "  </thead>\n",
       "  <tbody>\n",
       "    <tr>\n",
       "      <th>5</th>\n",
       "      <td>2025-03-15</td>\n",
       "      <td>C</td>\n",
       "      <td>12</td>\n",
       "      <td>200</td>\n",
       "      <td>2400</td>\n",
       "    </tr>\n",
       "    <tr>\n",
       "      <th>8</th>\n",
       "      <td>2025-04-25</td>\n",
       "      <td>B</td>\n",
       "      <td>11</td>\n",
       "      <td>150</td>\n",
       "      <td>1650</td>\n",
       "    </tr>\n",
       "    <tr>\n",
       "      <th>2</th>\n",
       "      <td>2025-02-03</td>\n",
       "      <td>A</td>\n",
       "      <td>15</td>\n",
       "      <td>100</td>\n",
       "      <td>1500</td>\n",
       "    </tr>\n",
       "    <tr>\n",
       "      <th>3</th>\n",
       "      <td>2025-02-17</td>\n",
       "      <td>C</td>\n",
       "      <td>7</td>\n",
       "      <td>200</td>\n",
       "      <td>1400</td>\n",
       "    </tr>\n",
       "    <tr>\n",
       "      <th>9</th>\n",
       "      <td>2025-05-05</td>\n",
       "      <td>A</td>\n",
       "      <td>14</td>\n",
       "      <td>100</td>\n",
       "      <td>1400</td>\n",
       "    </tr>\n",
       "    <tr>\n",
       "      <th>4</th>\n",
       "      <td>2025-03-01</td>\n",
       "      <td>B</td>\n",
       "      <td>9</td>\n",
       "      <td>150</td>\n",
       "      <td>1350</td>\n",
       "    </tr>\n",
       "    <tr>\n",
       "      <th>7</th>\n",
       "      <td>2025-04-10</td>\n",
       "      <td>C</td>\n",
       "      <td>6</td>\n",
       "      <td>200</td>\n",
       "      <td>1200</td>\n",
       "    </tr>\n",
       "    <tr>\n",
       "      <th>0</th>\n",
       "      <td>2025-01-05</td>\n",
       "      <td>A</td>\n",
       "      <td>10</td>\n",
       "      <td>100</td>\n",
       "      <td>1000</td>\n",
       "    </tr>\n",
       "    <tr>\n",
       "      <th>6</th>\n",
       "      <td>2025-03-30</td>\n",
       "      <td>A</td>\n",
       "      <td>8</td>\n",
       "      <td>100</td>\n",
       "      <td>800</td>\n",
       "    </tr>\n",
       "    <tr>\n",
       "      <th>1</th>\n",
       "      <td>2025-01-12</td>\n",
       "      <td>B</td>\n",
       "      <td>5</td>\n",
       "      <td>150</td>\n",
       "      <td>750</td>\n",
       "    </tr>\n",
       "  </tbody>\n",
       "</table>\n",
       "</div>"
      ],
      "text/plain": [
       "        Date Product  Units_Sold  Unit_Price  Revenue\n",
       "5 2025-03-15       C          12         200     2400\n",
       "8 2025-04-25       B          11         150     1650\n",
       "2 2025-02-03       A          15         100     1500\n",
       "3 2025-02-17       C           7         200     1400\n",
       "9 2025-05-05       A          14         100     1400\n",
       "4 2025-03-01       B           9         150     1350\n",
       "7 2025-04-10       C           6         200     1200\n",
       "0 2025-01-05       A          10         100     1000\n",
       "6 2025-03-30       A           8         100      800\n",
       "1 2025-01-12       B           5         150      750"
      ]
     },
     "execution_count": 57,
     "metadata": {},
     "output_type": "execute_result"
    }
   ],
   "source": [
    "df.sort_values(by='Revenue',ascending=False)"
   ]
  },
  {
   "cell_type": "code",
   "execution_count": 58,
   "id": "a3ddbffc",
   "metadata": {},
   "outputs": [
    {
     "data": {
      "text/plain": [
       "Date          2025-03-15 00:00:00\n",
       "Product                         C\n",
       "Units_Sold                     12\n",
       "Unit_Price                    200\n",
       "Revenue                      2400\n",
       "Name: 5, dtype: object"
      ]
     },
     "execution_count": 58,
     "metadata": {},
     "output_type": "execute_result"
    }
   ],
   "source": [
    "df.iloc[5]"
   ]
  },
  {
   "cell_type": "code",
   "execution_count": 68,
   "id": "e6abfafa",
   "metadata": {},
   "outputs": [],
   "source": [
    "df['Month'] = df['Date'].dt.to_period('M').astype(str)"
   ]
  },
  {
   "cell_type": "code",
   "execution_count": 70,
   "id": "2161093c",
   "metadata": {},
   "outputs": [
    {
     "data": {
      "text/html": [
       "<div>\n",
       "<style scoped>\n",
       "    .dataframe tbody tr th:only-of-type {\n",
       "        vertical-align: middle;\n",
       "    }\n",
       "\n",
       "    .dataframe tbody tr th {\n",
       "        vertical-align: top;\n",
       "    }\n",
       "\n",
       "    .dataframe thead th {\n",
       "        text-align: right;\n",
       "    }\n",
       "</style>\n",
       "<table border=\"1\" class=\"dataframe\">\n",
       "  <thead>\n",
       "    <tr style=\"text-align: right;\">\n",
       "      <th></th>\n",
       "      <th>Month</th>\n",
       "      <th>Revenue</th>\n",
       "    </tr>\n",
       "  </thead>\n",
       "  <tbody>\n",
       "    <tr>\n",
       "      <th>0</th>\n",
       "      <td>2025-01</td>\n",
       "      <td>1750</td>\n",
       "    </tr>\n",
       "    <tr>\n",
       "      <th>1</th>\n",
       "      <td>2025-02</td>\n",
       "      <td>2900</td>\n",
       "    </tr>\n",
       "    <tr>\n",
       "      <th>2</th>\n",
       "      <td>2025-03</td>\n",
       "      <td>4550</td>\n",
       "    </tr>\n",
       "    <tr>\n",
       "      <th>3</th>\n",
       "      <td>2025-04</td>\n",
       "      <td>2850</td>\n",
       "    </tr>\n",
       "    <tr>\n",
       "      <th>4</th>\n",
       "      <td>2025-05</td>\n",
       "      <td>1400</td>\n",
       "    </tr>\n",
       "  </tbody>\n",
       "</table>\n",
       "</div>"
      ],
      "text/plain": [
       "     Month  Revenue\n",
       "0  2025-01     1750\n",
       "1  2025-02     2900\n",
       "2  2025-03     4550\n",
       "3  2025-04     2850\n",
       "4  2025-05     1400"
      ]
     },
     "execution_count": 70,
     "metadata": {},
     "output_type": "execute_result"
    }
   ],
   "source": [
    "monthly_revenue = df.groupby('Month')['Revenue'].sum().reset_index()\n",
    "monthly_revenue"
   ]
  },
  {
   "cell_type": "markdown",
   "id": "b778ed69",
   "metadata": {},
   "source": [
    "### **Data Visualization**"
   ]
  },
  {
   "cell_type": "markdown",
   "id": "b15754e0",
   "metadata": {},
   "source": [
    "##### Revenue by product"
   ]
  },
  {
   "cell_type": "code",
   "execution_count": 71,
   "id": "c6f503ad",
   "metadata": {},
   "outputs": [
    {
     "data": {
      "image/png": "[encoded data removed]",
      "text/plain": [
       "<Figure size 1000x500 with 1 Axes>"
      ]
     },
     "metadata": {},
     "output_type": "display_data"
    }
   ],
   "source": [
    "import matplotlib.pyplot as plt\n",
    "plt.figure(figsize=(10,5))\n",
    "group.plot(kind='bar',color='skyblue')\n",
    "plt.title('Revenue by product')\n",
    "plt.xlabel('Product')\n",
    "plt.ylabel('Revenue')\n",
    "plt.xticks(rotation=0)\n",
    "plt.grid(axis='y')\n",
    "plt.tight_layout()\n",
    "plt.show()"
   ]
  },
  {
   "cell_type": "markdown",
   "id": "5bf67e44",
   "metadata": {},
   "source": [
    "##### Revenue over time"
   ]
  },
  {
   "cell_type": "code",
   "execution_count": 72,
   "id": "c96fe3be",
   "metadata": {},
   "outputs": [
    {
     "data": {
      "text/html": [
       "<div>\n",
       "<style scoped>\n",
       "    .dataframe tbody tr th:only-of-type {\n",
       "        vertical-align: middle;\n",
       "    }\n",
       "\n",
       "    .dataframe tbody tr th {\n",
       "        vertical-align: top;\n",
       "    }\n",
       "\n",
       "    .dataframe thead th {\n",
       "        text-align: right;\n",
       "    }\n",
       "</style>\n",
       "<table border=\"1\" class=\"dataframe\">\n",
       "  <thead>\n",
       "    <tr style=\"text-align: right;\">\n",
       "      <th></th>\n",
       "      <th>Date</th>\n",
       "      <th>Product</th>\n",
       "      <th>Units_Sold</th>\n",
       "      <th>Unit_Price</th>\n",
       "      <th>Revenue</th>\n",
       "      <th>Month</th>\n",
       "    </tr>\n",
       "  </thead>\n",
       "  <tbody>\n",
       "    <tr>\n",
       "      <th>0</th>\n",
       "      <td>2025-01-05</td>\n",
       "      <td>A</td>\n",
       "      <td>10</td>\n",
       "      <td>100</td>\n",
       "      <td>1000</td>\n",
       "      <td>2025-01</td>\n",
       "    </tr>\n",
       "    <tr>\n",
       "      <th>1</th>\n",
       "      <td>2025-01-12</td>\n",
       "      <td>B</td>\n",
       "      <td>5</td>\n",
       "      <td>150</td>\n",
       "      <td>750</td>\n",
       "      <td>2025-01</td>\n",
       "    </tr>\n",
       "    <tr>\n",
       "      <th>2</th>\n",
       "      <td>2025-02-03</td>\n",
       "      <td>A</td>\n",
       "      <td>15</td>\n",
       "      <td>100</td>\n",
       "      <td>1500</td>\n",
       "      <td>2025-02</td>\n",
       "    </tr>\n",
       "    <tr>\n",
       "      <th>3</th>\n",
       "      <td>2025-02-17</td>\n",
       "      <td>C</td>\n",
       "      <td>7</td>\n",
       "      <td>200</td>\n",
       "      <td>1400</td>\n",
       "      <td>2025-02</td>\n",
       "    </tr>\n",
       "    <tr>\n",
       "      <th>4</th>\n",
       "      <td>2025-03-01</td>\n",
       "      <td>B</td>\n",
       "      <td>9</td>\n",
       "      <td>150</td>\n",
       "      <td>1350</td>\n",
       "      <td>2025-03</td>\n",
       "    </tr>\n",
       "    <tr>\n",
       "      <th>5</th>\n",
       "      <td>2025-03-15</td>\n",
       "      <td>C</td>\n",
       "      <td>12</td>\n",
       "      <td>200</td>\n",
       "      <td>2400</td>\n",
       "      <td>2025-03</td>\n",
       "    </tr>\n",
       "    <tr>\n",
       "      <th>6</th>\n",
       "      <td>2025-03-30</td>\n",
       "      <td>A</td>\n",
       "      <td>8</td>\n",
       "      <td>100</td>\n",
       "      <td>800</td>\n",
       "      <td>2025-03</td>\n",
       "    </tr>\n",
       "    <tr>\n",
       "      <th>7</th>\n",
       "      <td>2025-04-10</td>\n",
       "      <td>C</td>\n",
       "      <td>6</td>\n",
       "      <td>200</td>\n",
       "      <td>1200</td>\n",
       "      <td>2025-04</td>\n",
       "    </tr>\n",
       "    <tr>\n",
       "      <th>8</th>\n",
       "      <td>2025-04-25</td>\n",
       "      <td>B</td>\n",
       "      <td>11</td>\n",
       "      <td>150</td>\n",
       "      <td>1650</td>\n",
       "      <td>2025-04</td>\n",
       "    </tr>\n",
       "    <tr>\n",
       "      <th>9</th>\n",
       "      <td>2025-05-05</td>\n",
       "      <td>A</td>\n",
       "      <td>14</td>\n",
       "      <td>100</td>\n",
       "      <td>1400</td>\n",
       "      <td>2025-05</td>\n",
       "    </tr>\n",
       "  </tbody>\n",
       "</table>\n",
       "</div>"
      ],
      "text/plain": [
       "        Date Product  Units_Sold  Unit_Price  Revenue    Month\n",
       "0 2025-01-05       A          10         100     1000  2025-01\n",
       "1 2025-01-12       B           5         150      750  2025-01\n",
       "2 2025-02-03       A          15         100     1500  2025-02\n",
       "3 2025-02-17       C           7         200     1400  2025-02\n",
       "4 2025-03-01       B           9         150     1350  2025-03\n",
       "5 2025-03-15       C          12         200     2400  2025-03\n",
       "6 2025-03-30       A           8         100      800  2025-03\n",
       "7 2025-04-10       C           6         200     1200  2025-04\n",
       "8 2025-04-25       B          11         150     1650  2025-04\n",
       "9 2025-05-05       A          14         100     1400  2025-05"
      ]
     },
     "execution_count": 72,
     "metadata": {},
     "output_type": "execute_result"
    }
   ],
   "source": [
    "df.sort_values('Date')"
   ]
  },
  {
   "cell_type": "code",
   "execution_count": 73,
   "id": "9a6c1aad",
   "metadata": {},
   "outputs": [
    {
     "data": {
      "image/png": "[encoded data removed]",
      "text/plain": [
       "<Figure size 1000x500 with 1 Axes>"
      ]
     },
     "metadata": {},
     "output_type": "display_data"
    }
   ],
   "source": [
    "plt.figure(figsize=(10,5))\n",
    "plt.plot(df['Date'],df['Revenue'],marker='o',linestyle='--',color='green')\n",
    "plt.title('Revenue Over Time')\n",
    "plt.xlabel('Date')\n",
    "plt.ylabel('Revenue')\n",
    "plt.grid()\n",
    "plt.tight_layout()\n",
    "plt.show()"
   ]
  },
  {
   "cell_type": "markdown",
   "id": "f4165002",
   "metadata": {},
   "source": [
    "##### Revenue Distribution in each product "
   ]
  },
  {
   "cell_type": "code",
   "execution_count": 78,
   "id": "b149c8bf",
   "metadata": {},
   "outputs": [
    {
     "data": {
      "image/png": "[encoded data removed]",
      "text/plain": [
       "<Figure size 600x600 with 1 Axes>"
      ]
     },
     "metadata": {},
     "output_type": "display_data"
    }
   ],
   "source": [
    "plt.figure(figsize=(6,6))\n",
    "group.plot(kind='pie',autopct='%1.1f%%',startangle=140)\n",
    "plt.title('Total Revenue composition by Products')\n",
    "plt.ylabel('')\n",
    "plt.grid()\n",
    "plt.show()"
   ]
  },
  {
   "cell_type": "markdown",
   "id": "3e2389d7",
   "metadata": {},
   "source": [
    "### 📈 Key Insights\n",
    "\n",
    "- **Total Revenue**: \\ $13450 \n",
    "- **Top-Selling Product**: `Product_Name:` C\n",
    "- **Revenue Trends**: Monthly revenue showed increasing first and then decreasing patterns. This helps understand seasonal performance and sales momentum.\n",
    "\n",
    "---"
   ]
  },
  {
   "cell_type": "markdown",
   "id": "6f76c533",
   "metadata": {},
   "source": [
    "#### 🙋‍♀️ About Me\n",
    "\n",
    "I'm Yasmeen Rafique, a Data Analytics passionate about storytelling with data, automation, and building impactful things in data field.  \n",
    "Connect with me on [LinkedIn](www.linkedin.com/in/yasmeen-rafique) or check out more projects on [GitHub](https://github.com/Yasmeenrafique)."
   ]
  }
 ],
 "metadata": {
  "kernelspec": {
   "display_name": "Python 3",
   "language": "python",
   "name": "python3"
  },
  "language_info": {
   "codemirror_mode": {
    "name": "ipython",
    "version": 3
   },
   "file_extension": ".py",
   "mimetype": "text/x-python",
   "name": "python",
   "nbconvert_exporter": "python",
   "pygments_lexer": "ipython3",
   "version": "3.13.5"
  }
 },
 "nbformat": 4,
 "nbformat_minor": 5
}
